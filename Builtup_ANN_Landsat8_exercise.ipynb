{
  "nbformat": 4,
  "nbformat_minor": 0,
  "metadata": {
    "kernelspec": {
      "display_name": "Python 3",
      "language": "python",
      "name": "python3"
    },
    "language_info": {
      "codemirror_mode": {
        "name": "ipython",
        "version": 3
      },
      "file_extension": ".py",
      "mimetype": "text/x-python",
      "name": "python",
      "nbconvert_exporter": "python",
      "pygments_lexer": "ipython3",
      "version": "3.7.7"
    },
    "colab": {
      "name": "Builtup_ANN_Landsat8_exercise.ipynb",
      "provenance": [],
      "collapsed_sections": [],
      "include_colab_link": true
    }
  },
  "cells": [
    {
      "cell_type": "markdown",
      "metadata": {
        "id": "view-in-github",
        "colab_type": "text"
      },
      "source": [
        "<a href=\"https://colab.research.google.com/github/ridhodwidharmawan/Landsat-Classification-Using-Neural-Network/blob/ipynb/Builtup_ANN_Landsat8_exercise.ipynb\" target=\"_parent\"><img src=\"https://colab.research.google.com/assets/colab-badge.svg\" alt=\"Open In Colab\"/></a>"
      ]
    },
    {
      "cell_type": "code",
      "metadata": {
        "id": "SrP_HKU_TBz5",
        "outputId": "6fd542ee-9886-4105-8b73-b9765580bcd1",
        "colab": {
          "base_uri": "https://localhost:8080/"
        }
      },
      "source": [
        "#Install Pyrsgis\n",
        "!pip install pyrsgis"
      ],
      "execution_count": 2,
      "outputs": [
        {
          "output_type": "stream",
          "text": [
            "Requirement already satisfied: pyrsgis in /usr/local/lib/python3.6/dist-packages (0.3.1)\n"
          ],
          "name": "stdout"
        }
      ]
    },
    {
      "cell_type": "code",
      "metadata": {
        "id": "_tzprFfsTB0H",
        "outputId": "4e44f7f1-41d3-407e-8a5e-7e6d8170d2f3",
        "colab": {
          "base_uri": "https://localhost:8080/"
        }
      },
      "source": [
        "#Get dataset\n",
        "!git clone https://github.com/ridhodwidharmawan/Landsat-Classification-Using-Neural-Network"
      ],
      "execution_count": 3,
      "outputs": [
        {
          "output_type": "stream",
          "text": [
            "Cloning into 'Landsat-Classification-Using-Neural-Network'...\n",
            "remote: Enumerating objects: 54, done.\u001b[K\n",
            "remote: Total 54 (delta 0), reused 0 (delta 0), pack-reused 54\u001b[K\n",
            "Unpacking objects: 100% (54/54), done.\n"
          ],
          "name": "stdout"
        }
      ]
    },
    {
      "cell_type": "code",
      "metadata": {
        "id": "3dJxEU08TB0O",
        "outputId": "786b574b-f66a-483a-c8a6-c2dc81456107",
        "colab": {
          "base_uri": "https://localhost:8080/"
        }
      },
      "source": [
        "import os\n",
        "import numpy as np\n",
        "from tensorflow import keras\n",
        "from pyrsgis import raster\n",
        "from pyrsgis.convert import changeDimension\n",
        "from sklearn.model_selection import train_test_split\n",
        "from sklearn.metrics import confusion_matrix, precision_score, recall_score"
      ],
      "execution_count": 4,
      "outputs": [
        {
          "output_type": "stream",
          "text": [
            "Warning! matplotlib_scalebar library not found.\n"
          ],
          "name": "stdout"
        }
      ]
    },
    {
      "cell_type": "code",
      "metadata": {
        "id": "VQkL_uoHTB0Y"
      },
      "source": [
        "# Change the directory\n",
        "os.chdir(\"Landsat-Classification-Using-Neural-Network/dataset\")"
      ],
      "execution_count": 5,
      "outputs": []
    },
    {
      "cell_type": "code",
      "metadata": {
        "id": "mbf8I2fJTB0f"
      },
      "source": [
        "# Assign file names\n",
        "featuredata_inp = 'LC08_120065_20180505_featuresdata.tif'\n",
        "labeldata_inp = 'builtup_labeldata.tif'\n",
        "unlabeleddata_inp = 'LC08_120065_20190625_unlabeleddata.tif'"
      ],
      "execution_count": 6,
      "outputs": []
    },
    {
      "cell_type": "code",
      "metadata": {
        "id": "A7IV_pKPTB0m"
      },
      "source": [
        "# Read the rasters as array\n",
        "ds1, featuredata = raster.read(featuredata_inp, bands='all')\n",
        "ds2, labeldata = raster.read(labeldata_inp, bands=1)\n",
        "ds3, unlabeleddata = raster.read(unlabeleddata_inp, bands='all')"
      ],
      "execution_count": 7,
      "outputs": []
    },
    {
      "cell_type": "code",
      "metadata": {
        "id": "OBnUwA6STB0t",
        "outputId": "86199deb-3012-441b-eea5-6c16d5c105c7",
        "colab": {
          "base_uri": "https://localhost:8080/"
        }
      },
      "source": [
        "# Print the size of the arrays\n",
        "print(\"Feature data multiband image shape: \", featuredata.shape)\n",
        "print(\"Label data builtup area image shape: \", labeldata.shape)\n",
        "print(\"Unlabeled data multiband image shape: \", unlabeleddata.shape)"
      ],
      "execution_count": 8,
      "outputs": [
        {
          "output_type": "stream",
          "text": [
            "Feature data multiband image shape:  (6, 844, 843)\n",
            "Label data builtup area image shape:  (844, 843)\n",
            "Unlabeled data multiband image shape:  (6, 3798, 3122)\n"
          ],
          "name": "stdout"
        }
      ]
    },
    {
      "cell_type": "code",
      "metadata": {
        "id": "QDv52Ox_TB01"
      },
      "source": [
        "# Clean the labelled data to replace NoData values by zero\n",
        "labeldata = (labeldata == 1).astype(int)"
      ],
      "execution_count": 9,
      "outputs": []
    },
    {
      "cell_type": "code",
      "metadata": {
        "id": "lvro135BTB0-"
      },
      "source": [
        "# Reshape the array to single dimensional array\n",
        "featuredata = changeDimension(featuredata)\n",
        "labeldata = changeDimension (labeldata)\n",
        "unlabeleddata = changeDimension(unlabeleddata)\n",
        "nBands = featuredata.shape[1]"
      ],
      "execution_count": 10,
      "outputs": []
    },
    {
      "cell_type": "code",
      "metadata": {
        "id": "_Ie1AgNjTB1D",
        "outputId": "a8d49fdd-4e42-4bcb-be2e-2182af31d49f",
        "colab": {
          "base_uri": "https://localhost:8080/"
        }
      },
      "source": [
        "# Print new dimension size\n",
        "print(\"Feature data multiband image shape: \", featuredata.shape)\n",
        "print(\"Label data builtup area image shape: \", labeldata.shape)\n",
        "print(\"Unlabeled data multiband image shape: \", unlabeleddata.shape)"
      ],
      "execution_count": 11,
      "outputs": [
        {
          "output_type": "stream",
          "text": [
            "Feature data multiband image shape:  (711492, 6)\n",
            "Label data builtup area image shape:  (711492,)\n",
            "Unlabeled data multiband image shape:  (11857356, 6)\n"
          ],
          "name": "stdout"
        }
      ]
    },
    {
      "cell_type": "code",
      "metadata": {
        "id": "SdQRL-yZTB1K"
      },
      "source": [
        "# Split testing and training datasets\n",
        "xTrain, xTest, yTrain, yTest = train_test_split(featuredata, labeldata, test_size=0.4, random_state=42)"
      ],
      "execution_count": 12,
      "outputs": []
    },
    {
      "cell_type": "code",
      "metadata": {
        "id": "aGXApVISTB1P",
        "outputId": "6afbbe6c-f2ce-4442-b0d9-ab20bd3fd997",
        "colab": {
          "base_uri": "https://localhost:8080/"
        }
      },
      "source": [
        "# Print train size\n",
        "print(xTrain.shape)\n",
        "print(yTrain.shape)"
      ],
      "execution_count": 13,
      "outputs": [
        {
          "output_type": "stream",
          "text": [
            "(426895, 6)\n",
            "(426895,)\n"
          ],
          "name": "stdout"
        }
      ]
    },
    {
      "cell_type": "code",
      "metadata": {
        "id": "JMbj5x5LTB1V",
        "outputId": "af46ff6b-e72a-47ea-bed8-86de4e0a4b70",
        "colab": {
          "base_uri": "https://localhost:8080/"
        }
      },
      "source": [
        "# Print test size\n",
        "print(xTest.shape)\n",
        "print(yTest.shape)"
      ],
      "execution_count": 14,
      "outputs": [
        {
          "output_type": "stream",
          "text": [
            "(284597, 6)\n",
            "(284597,)\n"
          ],
          "name": "stdout"
        }
      ]
    },
    {
      "cell_type": "code",
      "metadata": {
        "id": "aMeEJYRHTB1e"
      },
      "source": [
        "# Normalise the data\n",
        "xTrain = xTrain / 10000\n",
        "xTest = xTest / 10000\n",
        "unlabeleddata = unlabeleddata / 10000"
      ],
      "execution_count": 15,
      "outputs": []
    },
    {
      "cell_type": "code",
      "metadata": {
        "id": "t1RqjNB_TB1l"
      },
      "source": [
        "# Reshape the data\n",
        "xTrain = xTrain.reshape((xTrain.shape[0], 1, xTrain.shape[1]))\n",
        "xTest = xTest.reshape((xTest.shape[0], 1, xTest.shape[1]))\n",
        "unlabeleddata = unlabeleddata.reshape((unlabeleddata.shape[0], 1, unlabeleddata.shape[1]))"
      ],
      "execution_count": 16,
      "outputs": []
    },
    {
      "cell_type": "code",
      "metadata": {
        "id": "NcRKMmOrTB1t",
        "outputId": "d7a7f67c-c723-424f-e0a0-00c068e1cb76",
        "colab": {
          "base_uri": "https://localhost:8080/"
        }
      },
      "source": [
        "# Print the shape of reshaped data\n",
        "print(xTrain.shape, xTest.shape, unlabeleddata.shape)"
      ],
      "execution_count": 17,
      "outputs": [
        {
          "output_type": "stream",
          "text": [
            "(426895, 1, 6) (284597, 1, 6) (11857356, 1, 6)\n"
          ],
          "name": "stdout"
        }
      ]
    },
    {
      "cell_type": "code",
      "metadata": {
        "id": "tuLYKfqVTB11"
      },
      "source": [
        "# Define the parameters of the model\n",
        "model = keras.Sequential([\n",
        "    keras.layers.Flatten(input_shape=(1, nBands)),\n",
        "    keras.layers.Dense(14, activation='relu'),\n",
        "    keras.layers.Dense(2, activation='softmax')])"
      ],
      "execution_count": 18,
      "outputs": []
    },
    {
      "cell_type": "code",
      "metadata": {
        "id": "HahRKTLGTB1-"
      },
      "source": [
        "# Define the accuracy metrics and parameters\n",
        "opt = keras.optimizers.Adam(learning_rate=0.001)\n",
        "model.compile(optimizer=opt, loss=\"sparse_categorical_crossentropy\", metrics=[\"accuracy\"])"
      ],
      "execution_count": 19,
      "outputs": []
    },
    {
      "cell_type": "code",
      "metadata": {
        "id": "tq6B1159TB2C",
        "outputId": "662285d9-a01d-4f9c-9e78-62d0cb0e1f35",
        "colab": {
          "base_uri": "https://localhost:8080/"
        }
      },
      "source": [
        "# Run the model\n",
        "model.fit(xTrain, yTrain, epochs=5)"
      ],
      "execution_count": 20,
      "outputs": [
        {
          "output_type": "stream",
          "text": [
            "Epoch 1/5\n",
            "13341/13341 [==============================] - 14s 1ms/step - loss: 0.4678 - accuracy: 0.7884\n",
            "Epoch 2/5\n",
            "13341/13341 [==============================] - 14s 1ms/step - loss: 0.4226 - accuracy: 0.8185\n",
            "Epoch 3/5\n",
            "13341/13341 [==============================] - 13s 1ms/step - loss: 0.4136 - accuracy: 0.8248\n",
            "Epoch 4/5\n",
            "13341/13341 [==============================] - 13s 999us/step - loss: 0.4102 - accuracy: 0.8267\n",
            "Epoch 5/5\n",
            "13341/13341 [==============================] - 13s 998us/step - loss: 0.4084 - accuracy: 0.8275\n"
          ],
          "name": "stdout"
        },
        {
          "output_type": "execute_result",
          "data": {
            "text/plain": [
              "<tensorflow.python.keras.callbacks.History at 0x7f17062f3c88>"
            ]
          },
          "metadata": {
            "tags": []
          },
          "execution_count": 20
        }
      ]
    },
    {
      "cell_type": "code",
      "metadata": {
        "id": "2hiH9ihYTB2K"
      },
      "source": [
        "# Predict for test data \n",
        "yTestPredicted = model.predict(xTest)\n",
        "yTestPredicted = yTestPredicted[:,1]"
      ],
      "execution_count": 21,
      "outputs": []
    },
    {
      "cell_type": "code",
      "metadata": {
        "id": "KQshe1NXTB2O"
      },
      "source": [
        "# Calculate and display the error metrics\n",
        "yTestPredicted = (yTestPredicted>0.5).astype(int)\n",
        "cMatrix = confusion_matrix(yTest, yTestPredicted)\n",
        "pScore = precision_score(yTest, yTestPredicted)\n",
        "rScore = recall_score(yTest, yTestPredicted)"
      ],
      "execution_count": 22,
      "outputs": []
    },
    {
      "cell_type": "code",
      "metadata": {
        "id": "_BHZhm4UTB2U",
        "outputId": "84b31192-952a-4a82-da13-15ce16468989",
        "colab": {
          "base_uri": "https://localhost:8080/"
        }
      },
      "source": [
        "print(\"Confusion matrix: for 14 nodes\\n\", cMatrix)\n",
        "print(\"\\nP-Score: %.3f, R-Score: %.3f\" % (pScore, rScore))"
      ],
      "execution_count": 23,
      "outputs": [
        {
          "output_type": "stream",
          "text": [
            "Confusion matrix: for 14 nodes\n",
            " [[144030  20553]\n",
            " [ 28360  91654]]\n",
            "\n",
            "P-Score: 0.817, R-Score: 0.764\n"
          ],
          "name": "stdout"
        }
      ]
    },
    {
      "cell_type": "code",
      "metadata": {
        "id": "yKU1RLVJTB2b"
      },
      "source": [
        "predicted = model.predict(unlabeleddata)\n",
        "predicted = predicted[:,1]"
      ],
      "execution_count": 24,
      "outputs": []
    },
    {
      "cell_type": "code",
      "metadata": {
        "id": "coPt4gc3TB2g"
      },
      "source": [
        "#Export raster\n",
        "prediction = np.reshape(predicted, (ds3.RasterYSize, ds3.RasterXSize))\n",
        "outFile = 'builtup_predicted.tif'\n",
        "raster.export(prediction, ds3, filename=outFile, dtype='float')"
      ],
      "execution_count": 25,
      "outputs": []
    },
    {
      "cell_type": "code",
      "metadata": {
        "id": "zsGllvoTcHen"
      },
      "source": [
        ""
      ],
      "execution_count": 25,
      "outputs": []
    }
  ]
}